{
 "cells": [
  {
   "cell_type": "markdown",
   "metadata": {},
   "source": [
    "# Practical session 4 - K-nearest neighbours (K-NN) classification with numpy, scikit-learn, cython and numba\n",
    "\n",
    "Students (pair):\n",
    "- [DUBOUX Jean-Paul]([link](https://github.com/Eclil))\n",
    "- [WANG Céline]([link](https://github.com/cessounette))"
   ]
  },
  {
   "cell_type": "markdown",
   "metadata": {},
   "source": [
    "**Useful references for this lab**:\n",
    "\n",
    "[1] scikit-learn: [documentation](https://scikit-learn.org/stable/modules/neighbors.html?highlight=knn%20classification)\n",
    "\n",
    "[2] `numba`: [documentation](http://numba.pydata.org/) \n",
    "\n",
    "[3] cython: [a very useful tutorial](https://cython.readthedocs.io/en/latest/src/userguide/numpy_tutorial.html#numpy-tutorial), and [another one](http://docs.cython.org/en/latest/src/tutorial/cython_tutorial.html)\n",
    "\n",
    "\n",
    "\n",
    "## <a name=\"content\">Contents</a>\n",
    "- [Exercise 1: KNN classification with numpy and sklearn](#ex1)\n",
    "- [Exercise 2: Code acceleration with cython](#ex2)\n",
    "- [Exercise 3: Code acceleration with numba](#ex3)\n",
    "---"
   ]
  },
  {
   "cell_type": "code",
   "execution_count": 19,
   "metadata": {},
   "outputs": [],
   "source": [
    "%load_ext autoreload\n",
    "%autoreload 2"
   ]
  },
  {
   "cell_type": "markdown",
   "metadata": {},
   "source": [
    "## <a name=\"ex1\">Exercise 1: K-Nearest Neighbours (K-NN) classification with numpy and scikit-learn</a> [(&#8593;)](#content)"
   ]
  },
  {
   "cell_type": "markdown",
   "metadata": {},
   "source": [
    "This session is a first introduction to classification using the most intuitive non parametric method: the $K$-nearest neighbours. The principle is [the following](https://scikit-learn.org/stable/modules/neighbors.html?highlight=knn%20classification). A set of labelled observations is given as a learning set. A classification taks then consists in assigning a label to any new observation. In particular, the K-NN approach consists in assigning to the observation the most frequent label among its $K$ nearest neighbours taken in the training set."
   ]
  },
  {
   "cell_type": "markdown",
   "metadata": {},
   "source": [
    "### A. Validation on synthetic data\n",
    "\n",
    "Load the training and test datasets `data/synth_train.txt` and `data/synth_test.txt`. Targets belong to the set $\\{1,2\\}$ and entries belong to $\\mathbb{R}^2$. The file `data/synth_train.txt` contain 100 training data samples, and `data/synth_test.txt` contains 200 test samples, where:\n",
    "\n",
    "- the 1st column contains the label of the class the sample;\n",
    "- columns 2 & 3 contain the coordinates of each sample (in $\\mathbb{R}^2$).\n",
    "\n",
    "Useful commands can be found below."
   ]
  },
  {
   "cell_type": "markdown",
   "metadata": {},
   "source": [
    "```python\n",
    "# load the training set\n",
    "train = np.loadtxt('data/synth_train.txt')  #...,delimiter=',') if there are ',' as delimiters\n",
    "class_train = train[:,0]\n",
    "x_train = train[:,1:]\n",
    "N_train = train.shape[0]\n",
    "```"
   ]
  },
  {
   "cell_type": "markdown",
   "metadata": {},
   "source": [
    "```python\n",
    "# load the test set\n",
    "test = np.loadtxt('/datasynth_test.txt') \n",
    "class_test_1 = test[test[:,0]==1]\n",
    "class_test_2 = test[test[:,0]==2]\n",
    "x_test = test[:,1:]\n",
    "N_test = test.shape[0]\n",
    "```"
   ]
  },
  {
   "cell_type": "markdown",
   "metadata": {},
   "source": [
    "1\\. Display the training set and distinguish the two classes. \n",
    "\n",
    "> Hint: useful functions include `matplotlib.pyplot.scatter` or `matplotlib.pyplot.plot`."
   ]
  },
  {
   "cell_type": "markdown",
   "metadata": {},
   "source": [
    "**Answer:**"
   ]
  },
  {
   "cell_type": "code",
   "execution_count": 20,
   "metadata": {},
   "outputs": [
    {
     "data": {
      "image/png": "[encoded data removed]",
      "text/plain": [
       "<Figure size 504x504 with 1 Axes>"
      ]
     },
     "metadata": {
      "needs_background": "light"
     },
     "output_type": "display_data"
    }
   ],
   "source": [
    "# your code\n",
    "\n",
    "import matplotlib.pyplot as plt\n",
    "import numpy as np\n",
    "\n",
    "# load the training set\n",
    "train = np.loadtxt('data/synth_train.txt') \n",
    "class_train = train[:,0]\n",
    "x_train = train[:,1:]\n",
    "\n",
    "N_train = train.shape[0]\n",
    "\n",
    "# load the test set\n",
    "test = np.loadtxt('data/synth_test.txt') \n",
    "class_test_1 = test[test[:,0]==1]\n",
    "class_test_2 = test[test[:,0]==2]\n",
    "x_test = test[:,1:]\n",
    "N_test = test.shape[0]\n",
    "\n",
    "\n",
    "plt.figure(figsize=(7,7))\n",
    "class_train_1 = x_train[class_train[:] == 1]\n",
    "class_train_2 = x_train[class_train[:] == 2]\n",
    "\n",
    "plt.scatter(class_train_1[:,0],class_train_1[:,1])\n",
    "plt.scatter(class_train_2[:,0],class_train_2[:,1])\n",
    "\n",
    "plt.xlabel('x')\n",
    "plt.ylabel('y')\n",
    "plt.legend(['C1','C2'])\n",
    "plt.title('Class repartition of training set data')\n",
    "\n",
    "plt.show()"
   ]
  },
  {
   "cell_type": "markdown",
   "metadata": {},
   "source": [
    "2\\. Implement the K-nearest neighbours algorithm for classification.\n",
    "\n",
    "> Hint: \n",
    "> - useful functions include `numpy.linalg.norm`, `numpy.argsort`, `numpy.bincount`;\n",
    "> - implement the algorithm as a function rather than an object. This will drastically simplify the acceleration step using Cython.\n",
    "> - for an optimized partial sorting procedure, you may have a look at the [`bottleneck.argpartition` function](https://bottleneck.readthedocs.io/en/latest/reference.html#bottleneck.argpartition)."
   ]
  },
  {
   "cell_type": "markdown",
   "metadata": {},
   "source": [
    "**Answer:**"
   ]
  },
  {
   "cell_type": "code",
   "execution_count": 21,
   "metadata": {},
   "outputs": [],
   "source": [
    "# your code\n",
    "from numpy import linalg as LA\n",
    "\n",
    "def k_NN_classif(train_set, test_set, k):\n",
    "    class_pred = []\n",
    "    for point in test_set:\n",
    "        train_coord = train_set[:,1:]\n",
    "        dist_list = LA.norm(train_coord - point, axis = 1)\n",
    "\n",
    "        dist_list = np.array(dist_list)\n",
    "        ind_list = np.argsort(dist_list)\n",
    "\n",
    "        class_neigh = train_set[:,0][ind_list[:k]].astype(\"int\")\n",
    "\n",
    "        count = np.bincount(class_neigh)\n",
    "\n",
    "        class_pred.append(np.argmax(count))\n",
    "\n",
    "    return np.array(class_pred)\n",
    "    "
   ]
  },
  {
   "cell_type": "markdown",
   "metadata": {},
   "source": [
    "3\\. Compute the error rate on the training set and the test set for $K \\in \\{1,2, \\dotsc, 20\\}$. Display the classification result (see 1.) for the configuration with the lowest error rate."
   ]
  },
  {
   "cell_type": "markdown",
   "metadata": {},
   "source": [
    "**Answer:**"
   ]
  },
  {
   "cell_type": "code",
   "execution_count": 22,
   "metadata": {},
   "outputs": [
    {
     "name": "stdout",
     "output_type": "stream",
     "text": [
      "[0.065, 0.06, 0.045, 0.05, 0.06, 0.055, 0.07, 0.07, 0.075, 0.075, 0.09, 0.075, 0.08, 0.075, 0.075, 0.075, 0.08, 0.08, 0.08, 0.08]\n"
     ]
    },
    {
     "data": {
      "text/plain": [
       "<function matplotlib.pyplot.show(close=None, block=None)>"
      ]
     },
     "execution_count": 22,
     "metadata": {},
     "output_type": "execute_result"
    },
    {
     "data": {
      "image/png": "[encoded data removed]",
      "text/plain": [
       "<Figure size 432x288 with 1 Axes>"
      ]
     },
     "metadata": {
      "needs_background": "light"
     },
     "output_type": "display_data"
    }
   ],
   "source": [
    "# your code\n",
    "\n",
    "# train\n",
    "freq_list = []\n",
    "for i in range (1,21):\n",
    "    L = k_NN_classif(train,x_train,i)\n",
    "    L = [int(L[k] - class_train[k]) for k in range (len(L))]\n",
    "    freq_list.append((len(L) - L.count(0))/len(L))\n",
    "\n",
    "freq_list\n",
    "\n",
    "plt.figure()\n",
    "plt.plot(np.linspace(1,20,20),freq_list)\n",
    "\n",
    "# test\n",
    "freq_list2 = []\n",
    "for i in range (1,21):\n",
    "    L = k_NN_classif(train,x_test,i)\n",
    "    L = [int(L[k] - np.array(test[k,0])) for k in range (len(L))]\n",
    "    freq_list2.append((len(L) - L.count(0))/len(L))\n",
    "\n",
    "print(freq_list2)\n",
    "\n",
    "plt.plot(np.linspace(1,20,20),freq_list2)\n",
    "plt.show\n"
   ]
  },
  {
   "cell_type": "markdown",
   "metadata": {},
   "source": [
    "4\\. Comment on your results. Which value of $K$ seems optimal ?\n"
   ]
  },
  {
   "cell_type": "markdown",
   "metadata": {},
   "source": [
    "**Answer:**  According to the results, K = 3 seems the optimal value both for the training and testing sets (K = 1 doesn't represent anything for the training set, hence the perfect yet useless results)."
   ]
  },
  {
   "cell_type": "code",
   "execution_count": 23,
   "metadata": {},
   "outputs": [
    {
     "data": {
      "text/plain": [
       "Text(0.5, 1.0, 'Class repartition of testing set data')"
      ]
     },
     "execution_count": 23,
     "metadata": {},
     "output_type": "execute_result"
    },
    {
     "data": {
      "image/png": "[encoded data removed]",
      "text/plain": [
       "<Figure size 1224x576 with 2 Axes>"
      ]
     },
     "metadata": {
      "needs_background": "light"
     },
     "output_type": "display_data"
    }
   ],
   "source": [
    "# your code\n",
    "\n",
    "plt.figure(figsize=(17,8))\n",
    "\n",
    "## TRAIN CASE\n",
    "Ltrain = k_NN_classif(train,x_train,3)\n",
    "\n",
    "class_train_1_k3 = x_train[(class_train == 1) & (Ltrain == class_train)]\n",
    "class_train_2_k3 = x_train[(class_train == 2) & (Ltrain == class_train)]\n",
    "class_train_false_k3 = x_train[Ltrain != class_train]\n",
    "\n",
    "plt.subplot(1,2,1)\n",
    "\n",
    "plt.scatter(class_train_1_k3[:,0],class_train_1_k3[:,1])\n",
    "plt.scatter(class_train_2_k3[:,0],class_train_2_k3[:,1],color='pink')\n",
    "plt.scatter(class_train_false_k3[:,0],class_train_false_k3[:,1],color='r',marker='x')\n",
    "\n",
    "plt.xlabel('x')\n",
    "plt.ylabel('y')\n",
    "plt.legend(['C1','C2','false'])\n",
    "plt.title('Class repartition of training set data')\n",
    "\n",
    "\n",
    "\n",
    "## TEST CASE\n",
    "Ltest = k_NN_classif(train,x_test,3)\n",
    "\n",
    "class_test_1_k3 = x_test[(test[:,0] == 1) & (Ltest == test[:,0])]\n",
    "class_test_2_k3 = x_test[(test[:,0] == 2) & (Ltest == test[:,0])]\n",
    "class_test_false_k3 = x_test[Ltest != test[:,0]]\n",
    "\n",
    "plt.subplot(1,2,2)\n",
    "\n",
    "plt.scatter(class_test_1_k3[:,0],class_test_1_k3[:,1])\n",
    "plt.scatter(class_test_2_k3[:,0],class_test_2_k3[:,1],color='pink')\n",
    "plt.scatter(class_test_false_k3[:,0],class_test_false_k3[:,1],color='r',marker='x')\n",
    "\n",
    "plt.xlabel('x')\n",
    "plt.ylabel('y')\n",
    "plt.legend(['C1','C2','false'])\n",
    "plt.title('Class repartition of testing set data')"
   ]
  },
  {
   "cell_type": "markdown",
   "metadata": {},
   "source": [
    "5\\. Compare the results of you implementation with those of [`sklearn.neighbors.KNeighborsClassifier`](https://scikit-learn.org/stable/modules/generated/sklearn.neighbors.KNeighborsClassifier.html?highlight=kneighborsclassifier#sklearn.neighbors.KNeighborsClassifier). Compare the runtime of these two versions using the [`timeit`](https://docs.python.org/3/library/timeit.html) module (see session 1)."
   ]
  },
  {
   "cell_type": "markdown",
   "metadata": {},
   "source": [
    "**Answer:**"
   ]
  },
  {
   "cell_type": "code",
   "execution_count": 24,
   "metadata": {},
   "outputs": [
    {
     "name": "stdout",
     "output_type": "stream",
     "text": [
      "[0.065, 0.06, 0.045, 0.05, 0.06, 0.055, 0.07, 0.07, 0.075, 0.075, 0.09, 0.075, 0.08, 0.075, 0.075, 0.075, 0.08, 0.08, 0.08, 0.08]\n"
     ]
    },
    {
     "data": {
      "text/plain": [
       "<function matplotlib.pyplot.show(close=None, block=None)>"
      ]
     },
     "execution_count": 24,
     "metadata": {},
     "output_type": "execute_result"
    },
    {
     "data": {
      "image/png": "[encoded data removed]",
      "text/plain": [
       "<Figure size 432x288 with 1 Axes>"
      ]
     },
     "metadata": {
      "needs_background": "light"
     },
     "output_type": "display_data"
    }
   ],
   "source": [
    "# your code\n",
    "import timeit\n",
    "from sklearn.neighbors import KNeighborsClassifier\n",
    "\n",
    "freq_list = []\n",
    "\n",
    "for k in range (1,21):\n",
    "    neighbors = KNeighborsClassifier(k)\n",
    "    neighbors.fit(x_train,class_train)\n",
    "    L = neighbors.predict(x_train)\n",
    "    L = [int(L[k] - class_train[k]) for k in range (len(L))]\n",
    "    freq_list.append((len(L) - L.count(0))/len(L))\n",
    "\n",
    "plt.figure()\n",
    "plt.plot(np.linspace(1,20,20),freq_list)\n",
    "\n",
    "freq_list2 = []\n",
    "\n",
    "for k in range (1,21):\n",
    "    neighbors = KNeighborsClassifier(k)\n",
    "    neighbors.fit(x_train,class_train)\n",
    "    L = neighbors.predict(x_test)\n",
    "    L = [int(L[k] - np.array(test[k,0])) for k in range (len(L))]\n",
    "    freq_list2.append((len(L) - L.count(0))/len(L))\n",
    "\n",
    "print(freq_list2)\n",
    "\n",
    "plt.plot(np.linspace(1,20,20),freq_list2)\n",
    "plt.show"
   ]
  },
  {
   "cell_type": "code",
   "execution_count": 25,
   "metadata": {},
   "outputs": [
    {
     "name": "stdout",
     "output_type": "stream",
     "text": [
      "5.04 ms ± 1.83 ms per loop (mean ± std. dev. of 10 runs, 100 loops each)\n"
     ]
    }
   ],
   "source": [
    "%%timeit -r 10\n",
    "\n",
    "L = k_NN_classif(train,x_train,3)"
   ]
  },
  {
   "cell_type": "code",
   "execution_count": 26,
   "metadata": {},
   "outputs": [
    {
     "name": "stdout",
     "output_type": "stream",
     "text": [
      "5.67 ms ± 332 µs per loop (mean ± std. dev. of 10 runs, 100 loops each)\n"
     ]
    }
   ],
   "source": [
    "%%timeit -r 10\n",
    "\n",
    "neighbors = KNeighborsClassifier(3)\n",
    "neighbors.fit(x_train, class_train)\n",
    "neighbors.predict(x_train)"
   ]
  },
  {
   "cell_type": "markdown",
   "metadata": {},
   "source": [
    "### B. Application to a real dataset (Breast cancer Wisconsin).\n",
    "\n",
    "6\\. Apply the K-NN classifier to the real dataset `data/wdbc12.data.txt.` Further details about the data are provided in `data/wdbc12.names.txt`.\n",
    "\n",
    "> Hint: you can use the function [`train_test_split` from `sklearn.model_selection`](https://scikit-learn.org/stable/modules/generated/sklearn.model_selection.train_test_split.html) to split the dataset into a training and a test set."
   ]
  },
  {
   "cell_type": "markdown",
   "metadata": {},
   "source": [
    "**Answer:**"
   ]
  },
  {
   "cell_type": "code",
   "execution_count": 27,
   "metadata": {},
   "outputs": [
    {
     "data": {
      "text/plain": [
       "<function matplotlib.pyplot.show(close=None, block=None)>"
      ]
     },
     "execution_count": 27,
     "metadata": {},
     "output_type": "execute_result"
    },
    {
     "data": {
      "image/png": "[encoded data removed]",
      "text/plain": [
       "<Figure size 432x288 with 1 Axes>"
      ]
     },
     "metadata": {
      "needs_background": "light"
     },
     "output_type": "display_data"
    }
   ],
   "source": [
    "# your code\n",
    "import sklearn.model_selection\n",
    "np.random.seed(12345)\n",
    "dataBCW = np.loadtxt('data/wdbc12.data.txt', delimiter=',')\n",
    "trainBCW,testBCW = sklearn.model_selection.train_test_split(dataBCW)\n",
    "\n",
    "trainBCW,testBCW = trainBCW[:,1:], testBCW[:,1:] \n",
    "x_trainBCW, x_testBCW = trainBCW[:,1:], testBCW[:,1:]\n",
    "class_trainBCW, class_testBCW = trainBCW[:,0], testBCW[:,0]\n",
    "\n",
    "# train\n",
    "freq_listBCW_mean = np.zeros(20)\n",
    "for index in range (30):\n",
    "    for i in range (20):\n",
    "        L1BCW = k_NN_classif(trainBCW,x_trainBCW,i+1)\n",
    "        L1BCW = [int(L1BCW[k] - class_trainBCW[k]) for k in range (len(L1BCW))]\n",
    "        freq_listBCW_mean[i] += (len(L1BCW) - L1BCW.count(0))/(len(L1BCW)*30)\n",
    "\n",
    "plt.figure()\n",
    "plt.plot(np.linspace(1,20,20),freq_listBCW_mean)\n",
    "\n",
    "# test\n",
    "freq_list2BCW_mean = np.zeros(20)\n",
    "for index in range(30):\n",
    "    for i in range (0,20):\n",
    "        L2BCW = k_NN_classif(trainBCW,x_testBCW,i+1)\n",
    "        L2BCW = [int(L2BCW[k] - np.array(testBCW[k,0])) for k in range (len(L2BCW))]\n",
    "        freq_list2BCW_mean[i] += (len(L2BCW) - L2BCW.count(0))/(len(L2BCW)*30)\n",
    "\n",
    "\n",
    "plt.plot(np.linspace(1,20,20),freq_list2BCW_mean)\n",
    "plt.show\n"
   ]
  },
  {
   "cell_type": "code",
   "execution_count": 28,
   "metadata": {},
   "outputs": [
    {
     "data": {
      "text/plain": [
       "Text(0.5, 1.0, 'Class repartition of testing set data')"
      ]
     },
     "execution_count": 28,
     "metadata": {},
     "output_type": "execute_result"
    },
    {
     "data": {
      "image/png": "[encoded data removed]",
      "text/plain": [
       "<Figure size 1224x576 with 2 Axes>"
      ]
     },
     "metadata": {
      "needs_background": "light"
     },
     "output_type": "display_data"
    }
   ],
   "source": [
    "## TRAIN CASE\n",
    "K = 2\n",
    "\n",
    "plt.figure(figsize=(17,8))\n",
    "LtrainBCW = k_NN_classif(trainBCW,x_trainBCW,2)\n",
    "\n",
    "class_train_1_k3BCW = x_trainBCW[(class_trainBCW == 1) & (LtrainBCW == class_trainBCW)]\n",
    "class_train_2_k3BCW = x_trainBCW[(class_trainBCW == 2) & (LtrainBCW == class_trainBCW)]\n",
    "class_train_false_k3BCW = x_trainBCW[LtrainBCW != class_trainBCW]\n",
    "\n",
    "plt.subplot(1,2,1)\n",
    "\n",
    "plt.scatter(class_train_1_k3BCW[:,0],class_train_1_k3BCW[:,1])\n",
    "plt.scatter(class_train_2_k3BCW[:,0],class_train_2_k3BCW[:,1],color='pink')\n",
    "plt.scatter(class_train_false_k3BCW[:,0],class_train_false_k3BCW[:,1],color='r',marker='x')\n",
    "\n",
    "plt.xlabel('x')\n",
    "plt.ylabel('y')\n",
    "plt.legend(['C1','C2','false'])\n",
    "plt.title('Class repartition of training set data')\n",
    "\n",
    "\n",
    "\n",
    "## TEST CASE\n",
    "K = 5\n",
    "LtestBCW = k_NN_classif(trainBCW,x_testBCW,K)\n",
    "\n",
    "class_test_1_k3BCW = x_testBCW[(testBCW[:,0] == 1) & (LtestBCW == testBCW[:,0])]\n",
    "class_test_2_k3BCW = x_testBCW[(testBCW[:,0] == 2) & (LtestBCW == testBCW[:,0])]\n",
    "class_test_false_k3BCW = x_testBCW[LtestBCW != testBCW[:,0]]\n",
    "\n",
    "plt.subplot(1,2,2)\n",
    "\n",
    "plt.scatter(class_test_1_k3BCW[:,0],class_test_1_k3BCW[:,1])\n",
    "plt.scatter(class_test_2_k3BCW[:,0],class_test_2_k3BCW[:,1],color='pink')\n",
    "plt.scatter(class_test_false_k3BCW[:,0],class_test_false_k3BCW[:,1],color='r',marker='x')\n",
    "\n",
    "plt.xlabel('x')\n",
    "plt.ylabel('y')\n",
    "plt.legend(['C1','C2','false'])\n",
    "plt.title('Class repartition of testing set data')"
   ]
  },
  {
   "cell_type": "markdown",
   "metadata": {},
   "source": [
    "## <a name=\"ex2\">Exercise 2: Code acceleration with cython</a> [(&#8593;)](#content)\n",
    "\n",
    "Cython allows C code to be easily interfaced with Python. It can be useful to make your code faster for a small coding effort, in particular when using loops. A general approach to optimize your code is outlined in the [Scipy lecture notes, Section 2.4](https://scipy-lectures.org/advanced/optimizing/index.html). Complementary reading about interfacing Python with C can be found in [Section 2.8](https://scipy-lectures.org/advanced/interfacing_with_c/interfacing_with_c.html).\n",
    "\n",
    "1\\. Read carefully the [cython tutorial](http://docs.cython.org/en/latest/src/tutorial/cython_tutorial.html), which describes step by the step how the toy example reported below has been developed."
   ]
  },
  {
   "cell_type": "markdown",
   "metadata": {},
   "source": [
    "**Setup**: Compile the toy example provided in `example_cy/` by running, in the command line (anaconda prompt on windows)"
   ]
  },
  {
   "cell_type": "markdown",
   "metadata": {},
   "source": [
    "```bash\n",
    "cd example_cy && python setup.py build_ext --inplace\n",
    "```"
   ]
  },
  {
   "cell_type": "markdown",
   "metadata": {},
   "source": [
    "Note that the compilation process has been slightly automatised with the instructions reported in `example_cy/setup.py`. To test the module, run"
   ]
  },
  {
   "cell_type": "code",
   "execution_count": 29,
   "metadata": {},
   "outputs": [
    {
     "name": "stdout",
     "output_type": "stream",
     "text": [
      "running build_ext\n"
     ]
    }
   ],
   "source": [
    "!cd example_cy && python setup.py build_ext --inplace"
   ]
  },
  {
   "cell_type": "code",
   "execution_count": 30,
   "metadata": {},
   "outputs": [
    {
     "name": "stdout",
     "output_type": "stream",
     "text": [
      "Hello World\n"
     ]
    }
   ],
   "source": [
    "import example_cy.example_cy.helloworld as toy\n",
    "\n",
    "toy.printhello()"
   ]
  },
  {
   "cell_type": "markdown",
   "metadata": {},
   "source": [
    "which should display\n",
    "```python\n",
    "Hello World\n",
    "```"
   ]
  },
  {
   "cell_type": "markdown",
   "metadata": {},
   "source": [
    "> Warning: \n",
    "> - do not forget to include an empty `__init__.py` file in the directory where your source code lives (`import` will fail if this is not the case).\n",
    "> - in case you have any setup issue, take a look at the `notes.md` file.\n",
    "> - if the C code and/or the executable do not seem to be regenerated by the build instructions, delete the C code and the executable first, and re-execute the compilation afterwards.\n",
    "> - do not hesitate to restart the Python kernel if necessary when the Cython executable has been re-generated."
   ]
  },
  {
   "cell_type": "markdown",
   "metadata": {},
   "source": [
    "2\\. Read the [Numpy/Cython tutorial](https://cython.readthedocs.io/en/latest/src/userguide/numpy_tutorial.html#numpy-tutorial), focussing on the paragraphs **Cython at a glance**, and **Your Cython environment** until **\"More generic code\"**. An example to compile a `.pyx` file depending on `numpy` is included in `example_np_cy/`."
   ]
  },
  {
   "cell_type": "markdown",
   "metadata": {},
   "source": [
    "> Remarks: \n",
    "> - the `annotate=True` flag in the `setup.py` allows an additional `.html` document to be generated (`<your_module_name>.html`), showing, for each line of the Cython code, the associated C instructions generated. Highlighted in yellow are the interactions with Python: the darker a region appears, the less efficient the generated C code is for this section. Work in priority on these! \n",
    "> - make sure all the previously generated files are deleted to allow the .html report to be generated;\n",
    "> - if you are working on your own machine and don't have a C/C++ compiler installed, read the notes provided in `notes.md`;\n",
    "> - use `cdef` for pure C functions (not exported to Python), `cpdef` should be favored for functions containing C instructions and later called from Python."
   ]
  },
  {
   "cell_type": "markdown",
   "metadata": {},
   "source": [
    "**Answer:**"
   ]
  },
  {
   "cell_type": "code",
   "execution_count": 31,
   "metadata": {},
   "outputs": [
    {
     "name": "stdout",
     "output_type": "stream",
     "text": [
      "[2, 3, 5, 7, 11, 13, 17, 19, 23, 29, 31, 37, 41, 43, 47, 53, 59, 61, 67, 71, 73, 79, 83, 89, 97, 101, 103, 107, 109, 113, 127, 131, 137, 139, 149, 151, 157, 163, 167, 173, 179, 181, 191, 193, 197, 199, 211, 223, 227, 229]\n",
      "None\n"
     ]
    }
   ],
   "source": [
    "# your code\n",
    "\n",
    "import example_cy.example_cy.primes as toy\n",
    "\n",
    "print(toy.cprimes(50))"
   ]
  },
  {
   "cell_type": "markdown",
   "metadata": {},
   "source": [
    "3\\. Use Cython to implement a faster version of the numpy K-NN classifier implemented in [Exercise 1](#ex1). To do so, apply step-by-step the techniques introduced in the [Numpy/Cython tutorial](https://cython.readthedocs.io/en/latest/src/userguide/numpy_tutorial.html#numpy-tutorial) (*i.e.*, compile and time your code after each step to report the evolution, keeping track of the different versions of the cython function).\n",
    "\n",
    "> Hint: if you keep numpy arrays, make sure you use memory views (see numpy/cython tutorial) to access the elements within it. Be extremely careful with the type of the input arrays (you may need to recast the format of the input elements before entering the function. The `numpy.asarray` function can prove useful).\n",
    "\n",
    "> **Detailed guidelines**: a few notes and *caveat* to help you re-writing your code in cython:\n",
    "> - try to reduce the number of calls to numpy instructions as much as possible;\n",
    "> - **you do not have to optimize everything**. For the KNN function above, most of the time is spent in computing euclidean distances: you can thus focus on optimizing tihs operations by explicitly writing a for loop, which will ensure a minimal interaction with numpy when generating the associated C code at compilation. Calls to other numpy functions can be kept as-is;\n",
    "> - if you need to create an array within the cython function, used np.zeros (**do NOT use python lists**), and use a memory view to access its content;\n",
    "> - specify the type for all variables and numpy arrays. Pay attention to the type of the input arrays passed to the Cython function;\n",
    "> - whenever an array is returned, use memory views and index(es) to efficiently access its content;\n",
    "> - some numpy operators (e.g., broadcasting mechanism) do not work with memory views. In this case, you can directly write for loop(s) to encode the operation of interest (the loops will be optimized out at compile time);\n",
    "> - only use at the final development stage the following cython optimization (not before, as they can crash the program without any help):\n",
    ">\n",
    ">```python\n",
    ">@cython.boundscheck(False)\n",
    ">@cython.wraparound(False)\n",
    ">```"
   ]
  },
  {
   "cell_type": "markdown",
   "metadata": {},
   "source": [
    "**Answer:**"
   ]
  },
  {
   "cell_type": "code",
   "execution_count": 32,
   "metadata": {},
   "outputs": [
    {
     "data": {
      "text/plain": [
       "True"
      ]
     },
     "execution_count": 32,
     "metadata": {},
     "output_type": "execute_result"
    }
   ],
   "source": [
    "# your code\n",
    "import example_cy.example_cy.kNN as kNN\n",
    "\n",
    "# load the training set\n",
    "train = np.loadtxt('./data/synth_train.txt')  #...,delimiter=',') if there are ',' as delimiters\n",
    "class_train = train[:,0].astype(int)\n",
    "x_train = train[:,1:]\n",
    "N_train = train.shape[0]\n",
    "\n",
    "# load the test set\n",
    "test = np.loadtxt('./data/synth_test.txt') \n",
    "class_test = test[:,0].astype(int)\n",
    "class_test_1 = test[test[:,0]==1]\n",
    "class_test_2 = test[test[:,0]==2]\n",
    "x_test = test[:,1:]\n",
    "N_test = test.shape[0]\n",
    "\n",
    "pred = kNN.kNN(class_train, x_train, x_train, 1)\n",
    "np.array_equal(pred, class_train)"
   ]
  },
  {
   "cell_type": "markdown",
   "metadata": {},
   "source": [
    "4\\. Compare the runtime of the two algorithms (using `timeit.timeit`), and conclude about the interest of using cython in this case."
   ]
  },
  {
   "cell_type": "markdown",
   "metadata": {},
   "source": [
    "**Answer:**"
   ]
  },
  {
   "cell_type": "code",
   "execution_count": 33,
   "metadata": {},
   "outputs": [
    {
     "name": "stdout",
     "output_type": "stream",
     "text": [
      "13.4 ms ± 1.61 ms per loop (mean ± std. dev. of 10 runs, 100 loops each)\n"
     ]
    }
   ],
   "source": [
    "%%timeit -r 10\n",
    "\n",
    "K = 3\n",
    "kNN.kNN(class_train, x_train, x_test, 3)"
   ]
  },
  {
   "cell_type": "markdown",
   "metadata": {},
   "source": [
    "## <a name=\"ex3\">Exercise 3: Code acceleration with numba</a> [(&#8593;)](#content)\n",
    "\n",
    "`numba` is a just-in-time (JIT) compiler which translates Python codes into efficient machine code at runtime. A significant acceleration can be obtained by adding a few simple decorators to a standard Python function, up to a few restrictions detailed [here](http://numba.pydata.org/numba-doc/latest/user/performance-tips.html).\n",
    "\n",
    "If you have written most of the KNN classifier of exercise 1 with numpy, there is little to no chance that you will get an acceleration with numba (justifying the use of cython in this case). An interesting acceleration factor can however be obtained for the computation of the total variation investigated in session 2."
   ]
  },
  {
   "cell_type": "markdown",
   "metadata": {},
   "source": [
    "1\\. Take a look at the [numba 5 min tour](http://numba.pydata.org/numba-doc/latest/user/5minguide.html), and accelerate the total variation code from session 2 with the `@jit` decorator. You may have to rewrite small portions of your code to get the expected acceleration (see [performance tips](http://numba.pydata.org/numba-doc/latest/user/performance-tips.html))."
   ]
  },
  {
   "cell_type": "markdown",
   "metadata": {},
   "source": [
    "**Answer:**"
   ]
  },
  {
   "cell_type": "code",
   "execution_count": 34,
   "metadata": {},
   "outputs": [
    {
     "data": {
      "text/plain": [
       "array([[1., 1., 0.],\n",
       "       [1., 1., 0.],\n",
       "       [1., 1., 0.]])"
      ]
     },
     "execution_count": 34,
     "metadata": {},
     "output_type": "execute_result"
    }
   ],
   "source": [
    "M = np.array([[1, 2, 3], [4, 5, 6], [7, 8, 9]])\n",
    "XDh = np.diff(M)\n",
    "N = np.zeros(len(M))\n",
    "\n",
    "\n",
    "XDh = np.concatenate((XDh.T,N[np.newaxis,:]))\n",
    "XDh.T"
   ]
  },
  {
   "cell_type": "code",
   "execution_count": 35,
   "metadata": {},
   "outputs": [],
   "source": [
    "# your code\n",
    "import time\n",
    "from numba import jit\n",
    "\n",
    "@jit(nopython=True)\n",
    "def gradient2D (X):\n",
    "\n",
    "    assert len(np.shape(X)) <= 2, \"Matrix dimension is above 2 !\"\n",
    "    \n",
    "    XDh = np.diff(X)\n",
    "    DvX = np.diff(X.T).T\n",
    "\n",
    "    if(np.shape(XDh)[0] != 0):\n",
    "        N = np.zeros((len(XDh),len(XDh[0])+1))\n",
    "        N2 = np.zeros((len(DvX)+1,len(DvX[0])))\n",
    "        for i in range (len(XDh)):\n",
    "            for j in range (len(DvX)):\n",
    "                N[i][j] = XDh[i][j]\n",
    "                N2[i][j] = DvX.T[i][j]\n",
    "    else: # 1x1 matrix case\n",
    "        XDh = [0]\n",
    "        DvX = [0]\n",
    "    D = (N,N2.T)\n",
    "    return D\n",
    "\n",
    "def tv(X):\n",
    "    \"\"\"_summary_ \n",
    "    Compute the discrete isotopic total variation of a complex matrix.\n",
    "\n",
    "    Args:\n",
    "        X (np.array): a matrix of complex values.\n",
    "\n",
    "    Returns:\n",
    "        TV (complex): the discrete isotopic total variation of X.\n",
    "    \"\"\"\n",
    "    D = gradient2D(X)\n",
    "\n",
    "    XDh = D[0]\n",
    "    DvX = D[1]\n",
    "\n",
    "    TV = 0\n",
    "\n",
    "    for i in range(len(X)) :\n",
    "        for j in range(len(X[0])) :\n",
    "            TV += np.sqrt(XDh[i][j]**2 + DvX[i][j]**2)\n",
    "\n",
    "    return TV\n"
   ]
  },
  {
   "cell_type": "markdown",
   "metadata": {},
   "source": [
    "2\\. Compare the runtime of the your numpy implementation and the `numba`-accelerated version (using `timeit.timeit`). \n",
    "> **Warning**: first run the numba version once to trigger the compilation, and then time it as usual. This is needed to avoid including the JIT compilation step in the runtime."
   ]
  },
  {
   "cell_type": "markdown",
   "metadata": {},
   "source": [
    "**Answer:**"
   ]
  },
  {
   "cell_type": "code",
   "execution_count": 45,
   "metadata": {},
   "outputs": [
    {
     "name": "stdout",
     "output_type": "stream",
     "text": [
      "40.2 µs ± 1.76 µs per loop (mean ± std. dev. of 10 runs, 10000 loops each)\n"
     ]
    }
   ],
   "source": [
    "%%timeit -r 10\n",
    "\n",
    "M = np.array([[1, 2, 3], [4, 5, 6], [7, 8, 9]])\n",
    "tv(M)"
   ]
  },
  {
   "cell_type": "code",
   "execution_count": 43,
   "metadata": {},
   "outputs": [],
   "source": [
    "# your code\n",
    "\n",
    "def gradient2Dbasic (X):\n",
    "\n",
    "    assert len(np.shape(X)) <= 2, \"Matrix dimension is above 2 !\"\n",
    "    \n",
    "    XDh = np.diff(X)\n",
    "    DvX = np.diff(X.T).T\n",
    "\n",
    "    if(np.shape(XDh)[0] != 0):\n",
    "        N = np.zeros((len(XDh),len(XDh[0])+1))\n",
    "        N2 = np.zeros((len(DvX)+1,len(DvX[0])))\n",
    "        for i in range (len(XDh)):\n",
    "            for j in range (len(DvX)):\n",
    "                N[i][j] = XDh[i][j]\n",
    "                N2[i][j] = DvX.T[i][j]\n",
    "    else: # 1x1 matrix case\n",
    "        XDh = [0]\n",
    "        DvX = [0]\n",
    "    D = (N,N2.T)\n",
    "    return D\n",
    "\n",
    "def tvbasic(X):\n",
    "    \"\"\"_summary_ \n",
    "    Compute the discrete isotopic total variation of a complex matrix.\n",
    "\n",
    "    Args:\n",
    "        X (np.array): a matrix of complex values.\n",
    "\n",
    "    Returns:\n",
    "        TV (complex): the discrete isotopic total variation of X.\n",
    "    \"\"\"\n",
    "    D = gradient2Dbasic(X)\n",
    "\n",
    "    XDh = D[0]\n",
    "    DvX = D[1]\n",
    "\n",
    "    TV = 0\n",
    "\n",
    "    for i in range(len(X)) :\n",
    "        for j in range(len(X[0])) :\n",
    "            TV += np.sqrt(XDh[i][j]**2 + DvX[i][j]**2)\n",
    "\n",
    "    return TV\n"
   ]
  },
  {
   "cell_type": "code",
   "execution_count": 46,
   "metadata": {},
   "outputs": [
    {
     "name": "stdout",
     "output_type": "stream",
     "text": [
      "72.3 µs ± 6.03 µs per loop (mean ± std. dev. of 10 runs, 10000 loops each)\n"
     ]
    }
   ],
   "source": [
    "%%timeit -r 10\n",
    "\n",
    "M = np.array([[1, 2, 3], [4, 5, 6], [7, 8, 9]])\n",
    "tvbasic(M)"
   ]
  }
 ],
 "metadata": {
  "file_extension": ".py",
  "kernelspec": {
   "display_name": "Python 3.9.7 ('base')",
   "language": "python",
   "name": "python3"
  },
  "language_info": {
   "codemirror_mode": {
    "name": "ipython",
    "version": 3
   },
   "file_extension": ".py",
   "mimetype": "text/x-python",
   "name": "python",
   "nbconvert_exporter": "python",
   "pygments_lexer": "ipython3",
   "version": "3.9.7"
  },
  "mimetype": "text/x-python",
  "name": "python",
  "npconvert_exporter": "python",
  "pygments_lexer": "ipython3",
  "version": 3,
  "vscode": {
   "interpreter": {
    "hash": "ee717bdf0b9ea52f40065d25dab583d0ef4eb2be89f8883fb238f75248a9634a"
   }
  }
 },
 "nbformat": 4,
 "nbformat_minor": 4
}
