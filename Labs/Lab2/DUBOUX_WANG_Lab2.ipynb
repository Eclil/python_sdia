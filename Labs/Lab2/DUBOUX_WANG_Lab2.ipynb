{
 "cells": [
  {
   "cell_type": "markdown",
   "metadata": {},
   "source": [
    "# Practical session 2 - Practise with classic libraries\n",
    "\n",
    "Students (pair):\n",
    "- [Duboux Jean-Paul]([link](https://github.com/Eclil))\n",
    "- [Wang Céline]([link](https://github.com/cessounette))"
   ]
  },
  {
   "cell_type": "markdown",
   "metadata": {},
   "source": [
    "**Useful references for this lab**:\n",
    "\n",
    "[1] `numpy`: [lecture notes (1.4.1-1.4.2)](https://scipy-lectures.org/intro/numpy/index.html) and [documentation](https://numpy.org/doc/stable/)\n",
    "\n",
    "[2] `pandas`: [documentation](https://pandas.pydata.org/docs/getting_started/index.html), [quick tutorial](https://pandas.pydata.org/pandas-docs/version/0.15/10min.html)\n",
    "\n",
    "[3] `matplotlib`: [lecture notes (1.5)](https://scipy-lectures.org/intro/matplotlib/index.html) and [documentation](https://matplotlib.org/)\n",
    "\n",
    "[4] `h5py`: [quick start guide](http://docs.h5py.org/en/stable/quick.html#quick)"
   ]
  },
  {
   "cell_type": "markdown",
   "metadata": {},
   "source": [
    "## <a name=\"content\">Contents</a>\n",
    "- [Exercise 1: Computing basic statistics](#ex1)\n",
    "- [Exercise 2: Random variables and histograms](#ex2)\n",
    "- [Exercise 3: Discrete isotropic total variation](#ex3)\n",
    "---"
   ]
  },
  {
   "cell_type": "code",
   "execution_count": 1,
   "metadata": {},
   "outputs": [],
   "source": [
    "%load_ext autoreload\n",
    "%autoreload 2"
   ]
  },
  {
   "cell_type": "markdown",
   "metadata": {},
   "source": [
    "---\n",
    "## <a name=\"ex1\">Exercise 1: Random variables and histograms</a>\n",
    "\n",
    "In this exercise, we are interested in generating samples from the Gamma distribution $\\mathcal{G}(\\alpha,\\beta)$, of probability density function (pdf)\n",
    "\n",
    "\\begin{equation}\n",
    "    p(x) = \\frac{\\beta^\\alpha}{\\Gamma(\\alpha)} x^{\\alpha-1} \\exp(-\\beta x) \\mathbb{1}_{\\mathbb{R}_+^*}(x),\n",
    "\\end{equation}\n",
    "\n",
    "and displaying their histogram. In the following, we consider $(\\alpha, \\beta) = (9, 2)$.\n",
    "\n",
    "1\\. Set the random seed to a fixed value for reproducibility, and biefly check your instruction works as intended.\n",
    "> Hint: you may take a look at the following pages: [random module](https://numpy.org/doc/stable/reference/random/index.html?highlight=random#module-numpy.random), [random generator](https://numpy.org/doc/stable/reference/random/generator.html)."
   ]
  },
  {
   "cell_type": "markdown",
   "metadata": {},
   "source": [
    "**Answer**:"
   ]
  },
  {
   "cell_type": "code",
   "execution_count": 2,
   "metadata": {},
   "outputs": [
    {
     "name": "stdout",
     "output_type": "stream",
     "text": [
      "0.41661987254534116\n"
     ]
    }
   ],
   "source": [
    "# your code\n",
    "import numpy as np\n",
    "import random\n",
    "\n",
    "random.seed(12345)\n",
    "print(random.random())"
   ]
  },
  {
   "cell_type": "markdown",
   "metadata": {},
   "source": [
    "2\\. Generate $\\approx 10^5$ samples in a vector. Save the vector in a file, `samples.hdf5` or `samples.npy`.\n",
    "> Warning / hint: \n",
    "> - take a careful look at the [documentation](https://numpy.org/doc/stable/reference/random/generated/numpy.random.gamma.html?highlight=gamma#numpy.random.gamma) (multiple conventions exist for the definition of the pdf underlying the distribution...);\n",
    "> - to save data in a `npy` file, take a look at the example reported in the [Numpy documentation](https://numpy.org/doc/stable/reference/generated/numpy.save.html);\n",
    "> - to save data in a `.h5` file, take a quick look at the [documentation here](https://docs.h5py.org/en/stable/quick.html#quick)."
   ]
  },
  {
   "cell_type": "markdown",
   "metadata": {},
   "source": [
    "**Answer**:"
   ]
  },
  {
   "cell_type": "code",
   "execution_count": 3,
   "metadata": {},
   "outputs": [],
   "source": [
    "# your code\n",
    "sample = np.random.gamma(9,1/2,100000)\n",
    "\n",
    "np.save(\"sample\",sample)"
   ]
  },
  {
   "cell_type": "markdown",
   "metadata": {},
   "source": [
    "3\\. Estimate an histogram of this distribution for a well chosen set of bins, and display it.\n",
    "> Warnings: \n",
    "> - make sure the [histogram](https://matplotlib.org/api/_as_gen/matplotlib.pyplot.hist.html?highlight=hist#matplotlib.pyplot.hist) corresponds to a probability density function (pdf);\n",
    "> - do not forget to include a proper title with names for the axes."
   ]
  },
  {
   "cell_type": "markdown",
   "metadata": {},
   "source": [
    "**Answer**:"
   ]
  },
  {
   "cell_type": "code",
   "execution_count": 4,
   "metadata": {},
   "outputs": [
    {
     "data": {
      "text/plain": [
       "Text(0.5, 1.0, 'Density of a random sample')"
      ]
     },
     "execution_count": 4,
     "metadata": {},
     "output_type": "execute_result"
    },
    {
     "data": {
      "image/png": "[encoded data removed]",
      "text/plain": [
       "<Figure size 432x288 with 1 Axes>"
      ]
     },
     "metadata": {
      "needs_background": "light"
     },
     "output_type": "display_data"
    }
   ],
   "source": [
    "# your code\n",
    "import matplotlib.pyplot as plt\n",
    "\n",
    "# We choose a number of bins superior to Sturge's rule value 1 + log2(n) = 18\n",
    "# to be precise, but not to high to still be readable, 30 appears to be good enough \n",
    "\n",
    "plt.hist(sample,30,color = 'blue', edgecolor = 'black', density = True)\n",
    "plt.xlabel(\"Gamma values\")\n",
    "plt.ylabel(\"Density\")\n",
    "plt.title(\"Density of a random sample\")"
   ]
  },
  {
   "cell_type": "markdown",
   "metadata": {},
   "source": [
    "4\\. Overlay the probability density function on the histogram and compare these in a few words. Save the resulting picture in `.png` format.\n",
    "> Hint: \n",
    "> - take a look at the `scipy` [documentation](https://docs.scipy.org/doc/scipy/reference/stats.html) to avoid implementing the pdf from scratch;\n",
    "> - return the bins in which the histogram is computed, and evaluate the pdf on those points."
   ]
  },
  {
   "cell_type": "markdown",
   "metadata": {},
   "source": [
    "**Answer**:"
   ]
  },
  {
   "cell_type": "code",
   "execution_count": 5,
   "metadata": {},
   "outputs": [
    {
     "data": {
      "image/png": "[encoded data removed]",
      "text/plain": [
       "<Figure size 432x288 with 1 Axes>"
      ]
     },
     "metadata": {
      "needs_background": "light"
     },
     "output_type": "display_data"
    }
   ],
   "source": [
    "# your code\n",
    "from scipy.stats import gamma\n",
    "fig, ax = plt.subplots(1, 1)\n",
    "\n",
    "a,b = 9,2\n",
    "\n",
    "count, bins, ignored = ax.hist(sample,30, color = 'blue', edgecolor = 'black', density = True)\n",
    "\n",
    "ax.plot(bins, gamma.pdf(bins, a, 0, 1/b),\n",
    "       'r-', lw=2, label='gamma pdf')\n",
    "\n",
    "plt.xlabel(\"gamma\")\n",
    "plt.ylabel(\"density\")\n",
    "plt.title(\"Gamma distribution of a sample test\")\n",
    "\n",
    "plt.savefig(\"Gamma.png\")\n",
    "plt.show()"
   ]
  },
  {
   "cell_type": "markdown",
   "metadata": {},
   "source": [
    "The shape of the pdf is matching our histogram, which is quite obvious since we generated both of them thanks to the numpy module's gamma function."
   ]
  },
  {
   "cell_type": "markdown",
   "metadata": {},
   "source": [
    "---\n",
    "## <a name=\"ex2\">Exercise 2: Basic statistics with `pandas`</a>\n",
    "\n",
    "In this second exercise, we focus on computing basic statistics, and applying linear regression to a small data set. These data are gathered in the following table, which gives the infant mortality (`X`) and the gross national product per inhabitant (`Y`) of 12 european countries :\n",
    "\n",
    "| `X` | 190 | 128 | 180 | 212 | 56 | 192 | 68 | 98 | 110 | 197 | 181 | 233 |\n",
    "|-----|-----|-----|-----|----|-----|----|----|-----|-----|-----|-----|-----|\n",
    "| `Y` |  24 |  28 |  24 | 19 |  37 | 22 | 34 |  25 |  36 |  24 |  20 |  18 |\n",
    "\n",
    "1\\. For `X `and `Y`, compute the median, mean, variance and standard deviation. The data points have already been entered into a `.csv` file stored in `data/data.csv`.\n",
    "> Hint: \n",
    "> - you can directly use `pandas` to load the data into a `DataFrame` ([`pd.read_csv`](https://pandas.pydata.org/docs/reference/frame.html));\n",
    "> - take a look at the built-in operations available for `DataFrame` objects ([documentation](https://pandas.pydata.org/docs/reference/frame.html));\n",
    "> - to display a `DataFrame` `f`:\n",
    "> ```python \n",
    "> from IPython.display import display\n",
    "> display(df)\n",
    "> ```\n",
    "> - sort the `DataFrame` with respect to the value of `X` (see [here](https://pandas.pydata.org/docs/reference/api/pandas.DataFrame.sort_values.html#pandas.DataFrame.sort_values)) This will be useful for question 3."
   ]
  },
  {
   "cell_type": "markdown",
   "metadata": {},
   "source": [
    "**Answer**:"
   ]
  },
  {
   "cell_type": "code",
   "execution_count": 6,
   "metadata": {},
   "outputs": [
    {
     "name": "stdout",
     "output_type": "stream",
     "text": [
      "Xmedian: 180.5 Xmean: 153.75 X_var: 3486.0227272727275 X_std: 59.04255014201815\n",
      "Ymedian: 24.0 Ymean: 25.916666666666668 Y_var: 42.446969696969695 Y_std: 6.5151338970868204\n"
     ]
    },
    {
     "data": {
      "text/html": [
       "<div>\n",
       "<style scoped>\n",
       "    .dataframe tbody tr th:only-of-type {\n",
       "        vertical-align: middle;\n",
       "    }\n",
       "\n",
       "    .dataframe tbody tr th {\n",
       "        vertical-align: top;\n",
       "    }\n",
       "\n",
       "    .dataframe thead th {\n",
       "        text-align: right;\n",
       "    }\n",
       "</style>\n",
       "<table border=\"1\" class=\"dataframe\">\n",
       "  <thead>\n",
       "    <tr style=\"text-align: right;\">\n",
       "      <th></th>\n",
       "      <th>X</th>\n",
       "      <th>Y</th>\n",
       "    </tr>\n",
       "  </thead>\n",
       "  <tbody>\n",
       "    <tr>\n",
       "      <th>4</th>\n",
       "      <td>56</td>\n",
       "      <td>37</td>\n",
       "    </tr>\n",
       "    <tr>\n",
       "      <th>6</th>\n",
       "      <td>68</td>\n",
       "      <td>34</td>\n",
       "    </tr>\n",
       "    <tr>\n",
       "      <th>7</th>\n",
       "      <td>98</td>\n",
       "      <td>25</td>\n",
       "    </tr>\n",
       "    <tr>\n",
       "      <th>8</th>\n",
       "      <td>110</td>\n",
       "      <td>36</td>\n",
       "    </tr>\n",
       "    <tr>\n",
       "      <th>1</th>\n",
       "      <td>128</td>\n",
       "      <td>28</td>\n",
       "    </tr>\n",
       "    <tr>\n",
       "      <th>2</th>\n",
       "      <td>180</td>\n",
       "      <td>24</td>\n",
       "    </tr>\n",
       "    <tr>\n",
       "      <th>10</th>\n",
       "      <td>181</td>\n",
       "      <td>20</td>\n",
       "    </tr>\n",
       "    <tr>\n",
       "      <th>0</th>\n",
       "      <td>190</td>\n",
       "      <td>24</td>\n",
       "    </tr>\n",
       "    <tr>\n",
       "      <th>5</th>\n",
       "      <td>192</td>\n",
       "      <td>22</td>\n",
       "    </tr>\n",
       "    <tr>\n",
       "      <th>9</th>\n",
       "      <td>197</td>\n",
       "      <td>24</td>\n",
       "    </tr>\n",
       "    <tr>\n",
       "      <th>3</th>\n",
       "      <td>212</td>\n",
       "      <td>19</td>\n",
       "    </tr>\n",
       "    <tr>\n",
       "      <th>11</th>\n",
       "      <td>233</td>\n",
       "      <td>18</td>\n",
       "    </tr>\n",
       "  </tbody>\n",
       "</table>\n",
       "</div>"
      ],
      "text/plain": [
       "      X   Y\n",
       "4    56  37\n",
       "6    68  34\n",
       "7    98  25\n",
       "8   110  36\n",
       "1   128  28\n",
       "2   180  24\n",
       "10  181  20\n",
       "0   190  24\n",
       "5   192  22\n",
       "9   197  24\n",
       "3   212  19\n",
       "11  233  18"
      ]
     },
     "execution_count": 6,
     "metadata": {},
     "output_type": "execute_result"
    }
   ],
   "source": [
    "# your code\n",
    "import pandas as pd\n",
    "data = pd.read_csv(\"data\\data.csv\")\n",
    "\n",
    "x = data.X \n",
    "y = data.Y\n",
    "\n",
    "xmedian = x.median()\n",
    "xmean = x.mean()\n",
    "xvar = x.var()\n",
    "xstd = x.std()\n",
    "\n",
    "print('Xmedian:', xmedian, 'Xmean:', xmean, 'X_var:', xvar, 'X_std:', xstd)\n",
    "\n",
    "ymedian = y.median()\n",
    "ymean = y.mean()\n",
    "yvar = y.var()\n",
    "ystd = y.std()\n",
    "\n",
    "print('Ymedian:', ymedian, 'Ymean:', ymean, 'Y_var:', yvar, 'Y_std:', ystd)\n",
    "\n",
    "data.sort_values(\"X\")\n"
   ]
  },
  {
   "cell_type": "markdown",
   "metadata": {},
   "source": [
    "2\\. Give the equation of the regression line of `Y` as a function of `X`.\n",
    "> Hint: \n",
    "> - take a look at the functionalities available in `numpy` (e.g., `np.polyfit` and `np.polyval`);\n",
    "> - if needed, note that you can retrieve the data from the resulting `pandas` `DataFrame` with the `to_numpy()` method."
   ]
  },
  {
   "cell_type": "markdown",
   "metadata": {},
   "source": [
    "**Answer**:"
   ]
  },
  {
   "cell_type": "code",
   "execution_count": 7,
   "metadata": {},
   "outputs": [
    {
     "name": "stdout",
     "output_type": "stream",
     "text": [
      "[-0.09816475 41.0094968 ]\n"
     ]
    }
   ],
   "source": [
    "# your code\n",
    "data_np = data.to_numpy()\n",
    "coeffs = np.polyfit(data_np[:,0],data_np[:,1],1)\n",
    "\n",
    "print(coeffs)\n"
   ]
  },
  {
   "cell_type": "markdown",
   "metadata": {},
   "source": [
    "Y = -0.09816475*X + 41.0094968"
   ]
  },
  {
   "cell_type": "markdown",
   "metadata": {},
   "source": [
    "3\\. Display the cloud of points and the regression line $Y = f(X)$ on the same figure. Save the figure in `.png` format."
   ]
  },
  {
   "cell_type": "markdown",
   "metadata": {},
   "source": [
    "**Answer**:"
   ]
  },
  {
   "cell_type": "code",
   "execution_count": 8,
   "metadata": {},
   "outputs": [
    {
     "data": {
      "image/png": "[encoded data removed]",
      "text/plain": [
       "<Figure size 432x288 with 1 Axes>"
      ]
     },
     "metadata": {
      "needs_background": "light"
     },
     "output_type": "display_data"
    }
   ],
   "source": [
    "# your code\n",
    "plt.figure()\n",
    "\n",
    "X = np.linspace(0,250,2)\n",
    "Y = coeffs[0]*X + coeffs[1]\n",
    "\n",
    "plt.plot(X,Y,'r')\n",
    "plt.scatter(data_np[:,0], data_np[:,1])\n",
    "plt.xlabel(\"X\")\n",
    "plt.ylabel(\"Y\")\n",
    "plt.title(\"X-Y linear regression\")\n",
    "plt.grid()\n",
    "\n",
    "plt.savefig(\"X-Y regresion.png\")\n",
    "plt.show()"
   ]
  },
  {
   "cell_type": "markdown",
   "metadata": {},
   "source": [
    "---\n",
    "## <a name=\"ex3\">Exercise 3: Discrete isotropic total variation</a>\n",
    "\n",
    "This exercise is devoted to the computation of the discrete isotropic total variation (TV) of an input matrix $\\mathbf{X} = [\\mathbf{x}_n]_{1 \\leq n \\leq N} \\in\\mathbb{C}^{M \\times N}$, which is particularly useful in Bayesian inference (e.g., for inverse problems) to promote piece-wise smooth solutions. The TV is defined as\n",
    "\n",
    "\\begin{equation*}\n",
    "    \\text{TV}(\\mathbf{X}) = \\Vert D(\\mathbf{X}) \\Vert_{1,2} = \\sum_{m=1}^M \\sum_{n=1}^N \\sqrt{[\\mathbf{XD}_h]^2_{m,n} + [\\mathbf{D}_v\\mathbf{X}]^2_{m,n}},\n",
    "\\end{equation*}\n",
    "\n",
    "where $[\\mathbf{Z}]_{m,n}$ denotes the elements in position $(m,n)$ of the matrix $\\mathbf{Z}$,\n",
    "\n",
    "\\begin{align*}\n",
    "    D(X) &= (\\mathbf{XD}_h, \\mathbf{D}_v\\mathbf{X}) \\in \\mathbb{C}^{M\\times N} \\times \\mathbb{C}^{M\\times N} \\\\\n",
    "    %\n",
    "    \\mathbf{XD}_h &= [\\mathbf{x}_2-\\mathbf{x}_1, \\dotsc, \\mathbf{x}_N-\\mathbf{x}_{N-1}, \\mathbf{0}_M] \\in \\mathbb{C}^{M\\times N} \\\\\n",
    "    %\n",
    "    \\mathbf{D}_v\\mathbf{X} &= [\\tilde{\\mathbf{x}}_2^T-\\tilde{\\mathbf{x}}^T_1, \\dotsc, \\tilde{\\mathbf{x}}^T_M-\\tilde{\\mathbf{x}}^T_{M-1}, \\mathbf{0}_N]^T \\in \\mathbb{C}^{M\\times N},\n",
    "\\end{align*}\n",
    "\n",
    "$\\mathbf{x}_n \\in \\mathbb{C}^{N}$ is the $n$-th column of $\\mathbf{X}$, and $\\tilde{\\mathbf{x}}_m \\in \\mathbb{C}^{1\\times M}$ is the $m$-th row of $\\mathbf{X}$. \n",
    "The linear operator $D: \\mathbb{C}^{M\\times N} \\rightarrow \\mathbb{C}^{M\\times N} \\times \\mathbb{C}^{M\\times N} $ is the discrete gradient operator. The adjoint of $D$, $D^*: \\mathbb{C}^{M\\times N} \\times \\mathbb{C}^{M\\times N} \\rightarrow \\mathbb{C}^{M\\times N}$, is given by\n",
    "\n",
    "\\begin{align*}\n",
    "    (\\forall \\mathbf{Y} = (\\mathbf{Y}_h,\\mathbf{Y}_v)), \\quad D^*(\\mathbf{Y}) &= \\mathbf{Y}_h\\mathbf{D}^*_h + \\mathbf{D}^*_v\\mathbf{Y}_v \\\\\n",
    "    %\n",
    "    \\mathbf{Y}_h\\mathbf{D}^*_h &= \\big[-\\mathbf{y}_{h,1},- [\\mathbf{y}_{h,n}-\\mathbf{y}_{h,n-1}]_{2 \\leq n \\leq N-1}, \\mathbf{y}_{h, N-1} \\big] \\\\\n",
    "    %\n",
    "    \\mathbf{D}^*_v\\mathbf{Y}_v &= \\big[-\\tilde{\\mathbf{y}}_{v,1}^T,- [\\tilde{\\mathbf{y}}_{v,m}^T-\\tilde{\\mathbf{y}}^T_{v,m-1}]_{2 \\leq m \\leq M-1}, \\tilde{\\mathbf{y}}^T_{v, M-1} \\big]^T\n",
    "\\end{align*}\n",
    "\n",
    "where $\\mathbf{y}_{h,n}$ is the $n$-th column of $\\mathbf{Y}_h$, and $\\tilde{\\mathbf{x}}_{v,m}$ is the $m$-th row of $\\mathbf{Y}_v$.\n",
    "\n",
    "1\\. Using `numpy`, implement a function `gradient2D` to compute the 2D discrete gradient operator $D$ applied to a matrix $\\mathbf{X}\\in\\mathbb{C}^{M \\times N}$ (no for loops!). Trigger an error message whenever the input array has more than 2 dimensions. If not clear from the implementation, add a few short comments to explain your code.\n",
    "\n",
    "> Hint: \n",
    "> - to trigger an error, you can for instance use an `assert` statement, or raise an [exception (e.g., `AssertionError`)](https://docs.python.org/3/library/exceptions.html);\n",
    "> - only a few operations are needed: computing vertical differences, horizontal differences, and possibly a concatenation of matrices into a single tensor (= n-dimensional array);\n",
    "> - possibly useful functions: `np.diff`, `np.c_`, `np.r_` (or `np.concatenate`). "
   ]
  },
  {
   "cell_type": "markdown",
   "metadata": {},
   "source": [
    "**Answer**:"
   ]
  },
  {
   "cell_type": "code",
   "execution_count": 9,
   "metadata": {},
   "outputs": [],
   "source": [
    "# your code\n",
    "\n",
    "def gradient2D (X):\n",
    "    nX = np.copy(X)\n",
    "    assert len(np.shape(nX)) <= 2, \"Matrix dimension is above 2 !\"\n",
    "    \n",
    "    XDh = np.diff(nX)\n",
    "    DvX = np.diff(nX.T)\n",
    "\n",
    "    if(len(XDh) != 0):\n",
    "        XDh = np.c_[XDh,np.zeros(len(nX))]\n",
    "        DvX = np.c_[DvX,np.zeros(len(nX.T))].T\n",
    "    else: # 1x1 matrix case\n",
    "        XDh = [0]\n",
    "        DvX = [0]\n",
    "    \n",
    "    D = (XDh,DvX)\n",
    "\n",
    "    return D\n"
   ]
  },
  {
   "cell_type": "markdown",
   "metadata": {},
   "source": [
    "2\\. Implement a unit-test to validate the behaviour of the `gradient2D` function. For instance, you can check the format of the output, and test the result when the functioni s evaluated on a constant matrix (for both a square and a non-square input matrix). Run the unit-test from the present Jupyter notebook."
   ]
  },
  {
   "cell_type": "markdown",
   "metadata": {},
   "source": [
    "**Answer**:"
   ]
  },
  {
   "cell_type": "code",
   "execution_count": 10,
   "metadata": {},
   "outputs": [
    {
     "name": "stdout",
     "output_type": "stream",
     "text": [
      "============================= test session starts =============================\n",
      "platform win32 -- Python 3.9.7, pytest-6.2.4, py-1.10.0, pluggy-0.13.1\n",
      "rootdir: c:\\Users\\Jp190\\Documents\\Centrale Lille\\S9\\SDI\\Python\\python_sdia\\Labs\\Lab2\n",
      "plugins: anyio-2.2.0\n",
      "collected 4 items\n",
      "\n",
      "tests\\test_grad_unittest.py ....                                         [100%]\n",
      "\n",
      "============================== warnings summary ===============================\n",
      "..\\..\\..\\..\\..\\..\\..\\..\\anaconda3\\lib\\site-packages\\pyreadline\\py3k_compat.py:8\n",
      "  c:\\Users\\Jp190\\anaconda3\\lib\\site-packages\\pyreadline\\py3k_compat.py:8: DeprecationWarning: Using or importing the ABCs from 'collections' instead of from 'collections.abc' is deprecated since Python 3.3, and in 3.10 it will stop working\n",
      "    return isinstance(x, collections.Callable)\n",
      "\n",
      "-- Docs: https://docs.pytest.org/en/stable/warnings.html\n",
      "======================== 4 passed, 1 warning in 0.05s =========================\n"
     ]
    }
   ],
   "source": [
    "# your code\n",
    "%run -m pytest tests/test_grad_unittest.py"
   ]
  },
  {
   "cell_type": "markdown",
   "metadata": {},
   "source": [
    "3\\. Document the function `gradient2D` with an appropriate docstring (see Lab 1)."
   ]
  },
  {
   "cell_type": "markdown",
   "metadata": {},
   "source": [
    "**Answer**:"
   ]
  },
  {
   "cell_type": "code",
   "execution_count": 11,
   "metadata": {},
   "outputs": [],
   "source": [
    "# your code\n",
    "\n",
    "def gradient2D (X):\n",
    "    \"\"\"_summary_ \n",
    "    Computes the 2D discrete gradient operator of a 2D matrix and returns the resulting tuple (XDh, DvX)\n",
    "\n",
    "    :param X: a matrix of complex numbers\n",
    "    :type X: np.array\n",
    "    :raises AssertionError: if X has more than 2 dimensions\n",
    "    :return: returns the 2D discrete gradient operator of the matrix X.\n",
    "    Which is a couple of two other matrixes (XDh & DvX) defined following the formulas above\n",
    "    :rtype: tuple(np.array,np.array)\n",
    "    \n",
    "    \"\"\"\n",
    "    nX = np.copy(X)\n",
    "    assert len(np.shape(nX)) <= 2, \"Matrix dimension is above 2 !\"\n",
    "    \n",
    "    XDh = np.diff(nX)\n",
    "    DvX = np.diff(nX.T)\n",
    "\n",
    "    if(len(XDh) != 0):\n",
    "        XDh = np.c_[XDh,np.zeros(len(nX))]\n",
    "        DvX = np.c_[DvX,np.zeros(len(nX.T))].T\n",
    "    else: # 1x1 matrix case\n",
    "        XDh = [0]\n",
    "        DvX = [0]\n",
    "    \n",
    "    D = (XDh,DvX)\n",
    "\n",
    "    return D\n"
   ]
  },
  {
   "cell_type": "markdown",
   "metadata": {},
   "source": [
    "4\\. Using 1., define a function `tv` to compute $\\text{TV}(\\mathbf{X})$, $\\mathbf{X}\\in\\mathbb{C}^{M \\times N}$. Write a unit-test and document your function."
   ]
  },
  {
   "cell_type": "markdown",
   "metadata": {},
   "source": [
    "**Answer**:"
   ]
  },
  {
   "cell_type": "code",
   "execution_count": 12,
   "metadata": {},
   "outputs": [
    {
     "name": "stdout",
     "output_type": "stream",
     "text": [
      "============================= test session starts =============================\n",
      "platform win32 -- Python 3.9.7, pytest-6.2.4, py-1.10.0, pluggy-0.13.1\n",
      "rootdir: c:\\Users\\Jp190\\Documents\\Centrale Lille\\S9\\SDI\\Python\\python_sdia\\Labs\\Lab2\n",
      "plugins: anyio-2.2.0\n",
      "collected 3 items\n",
      "\n",
      "tests\\test_tv_unittest.py ...                                            [100%]\n",
      "\n",
      "============================== 3 passed in 0.04s ==============================\n"
     ]
    }
   ],
   "source": [
    "# your code\n",
    "\n",
    "def tv(X):\n",
    "    \"\"\"_summary_ \n",
    "    Compute the discrete isotopic total variation of a complex matrix.\n",
    "\n",
    "    Args:\n",
    "        X (np.array): a matrix of complex values.\n",
    "\n",
    "    Returns:\n",
    "        TV (complex): the discrete isotopic total variation of X.\n",
    "    \"\"\"\n",
    "    D = gradient2D(X)\n",
    "    XDh = D[0]\n",
    "    DvX = D[1]\n",
    "\n",
    "    TV = 0\n",
    "\n",
    "    for i in range(len(X)) :\n",
    "        for j in range(len(X[0])) :\n",
    "            TV += np.sqrt(XDh[i][j]**2 + DvX[i][j]**2)\n",
    "\n",
    "    return TV\n",
    "\n",
    "%run -m pytest tests/test_tv_unittest.py"
   ]
  },
  {
   "cell_type": "markdown",
   "metadata": {},
   "source": [
    "5\\. Implement a function `gradient2D_adjoint` to compute $D^*(\\mathbf{Y})$, the adjoint of the 2D discrete gradient operator $D$ applied to $\\mathbf{Y}\\in\\mathbb{C}^{M \\times N}\\times \\mathbb{C}^{M \\times N}$. Add a few short comments to explain your code whenever appropriate."
   ]
  },
  {
   "cell_type": "markdown",
   "metadata": {},
   "source": [
    "**Answer**:"
   ]
  },
  {
   "cell_type": "markdown",
   "metadata": {},
   "source": [
    "/!\\ Even though it is computable by the function gradient2D_adjoint, we won't work with 1x1, 2x1 and 1x2 matrices considering that the 2.6 formulas are false in these cases."
   ]
  },
  {
   "cell_type": "code",
   "execution_count": 13,
   "metadata": {},
   "outputs": [],
   "source": [
    "# your code\n",
    "def gradient2D_adjoint (Yh,Yv):\n",
    "    nYh = np.copy(Yh) # Yh copy\n",
    "    nYv = np.copy(Yv) # Yv copy\n",
    "\n",
    "    YhDh = []\n",
    "    DvYv = []\n",
    "\n",
    "    assert (nYh.shape == nYv.shape), \"Yh and Yv dimensions are not equal!\"\n",
    "    assert (nYh.shape[0] != 1 or nYh.shape[1] != 1), \"Unable to use the formulas with scalars. Ex: X = 1, Yh = 1, Yv = 2 -> 0 = -3!\"\n",
    "    assert (nYh.shape[0] != 2 or nYh.shape[1] != 1), \"Unable to use the formulas with 2x1 matrix!\"\n",
    "    assert (nYh.shape[0] != 1 or nYh.shape[1] != 2), \"Unable to use the formulas with 1x2 matrix!\"\n",
    "\n",
    "    if (nYh.shape[0] == 1 & nYh.shape[1] == 1): # 1x1 matrix case, but we will never use it because of the 2.6 formulas that are only working for 2x2 matrices and above\n",
    "\n",
    "      YhDh = np.array([-nYh[0]])\n",
    "\n",
    "    else:  \n",
    "            \n",
    "      nYh1 = nYh[:,0] # We save Yh's first column\n",
    "      nYhN = nYh[:,len(nYh[0])-2] # We save Yh's before last column\n",
    "\n",
    "      YhDh = np.diff(nYh) # We compute the intermediary columns\n",
    "      if(len(YhDh[0])-1 > 0): # We make sure they exist\n",
    "                YhDh = np.c_[-nYh1,-YhDh[:,:len(YhDh[0])-1]] # If yes, we add them after the first column\n",
    "      else:\n",
    "                YhDh = np.array([-nYh1]).T # Else, we only keep the first column\n",
    "    \n",
    "      YhDh = np.c_[YhDh,nYhN] # We add the before last column to obtain the final result\n",
    "    \n",
    "\n",
    "    if (nYv.shape[0] == 1 & nYv.shape[1] == 1): # 1x1 matrix case, but we will never use it because of the 2.6 formulas that are only working for 2x2 matrices and above\n",
    "\n",
    "      DvYv = np.array([-nYv[0]])\n",
    "\n",
    "    else :  \n",
    "\n",
    "      nYv1 = nYv[0,:] # We save Yv's first row\n",
    "      nYvN = nYv[len(nYv)-2,:] # We save Yv's before last column\n",
    "    \n",
    "      DvYv = (np.diff(nYv.T)).T # We compute the intermediary rows\n",
    "      if(len(DvYv)-1 > 0): # We make sure they exist\n",
    "          DvYv = np.c_[-nYv1,-DvYv[:len(DvYv)-1,:].T].T # If yes, we add them after the first row\n",
    "      else:\n",
    "          DvYv = np.array([-nYv1]) # Else, we only keep the first row\n",
    "      \n",
    "      DvYv = np.c_[DvYv.T,nYvN].T # We add the before last row to obtain the final result\n",
    "\n",
    "\n",
    "    return YhDh + DvYv # We add the two resulting matrices\n"
   ]
  },
  {
   "cell_type": "markdown",
   "metadata": {},
   "source": [
    "6\\. Implement a unit-test to validate `gradient2D_adjoint`, e.g., by checking the size of the output from the function and verifying that `gradient2D_adjoint` is adjoint to `gradient2D`, i.e., for any $\\mathbf{X}\\in\\mathbb{C}^{M \\times N}$ and $\\mathbf{Y}\\in\\mathbb{C}^{M \\times N}\\times \\mathbb{C}^{M \\times N}$:\n",
    "\n",
    "\\begin{equation}\n",
    "    \\forall \\mathbf{X} \\in \\mathbb{C}^{M \\times N}, \\mathbf{Y} = (\\mathbf{Y}_h, \\mathbf{Y}_v) \\in \\mathbb{C}^{M \\times N} \\times \\mathbb{C}^{M \\times N}, \\;\n",
    "    %\n",
    "    \\langle D(\\mathbf{X}), \\mathbf{Y} \\rangle_{\\mathbb{C}^{M \\times N} \\times \\mathbb{C}^{M \\times N}} = \\langle \\mathbf{X}, D^*(\\mathbf{Y}) \\rangle_{\\mathbb{C}^{M \\times N}}, \n",
    "\\end{equation}\n",
    "\n",
    "where \n",
    "\n",
    "\\begin{align}\n",
    "    &\\forall \\mathbf{U}, \\mathbf{V} \\in \\mathbb{C}^{M \\times N}, \\; \\langle \\mathbf{U}, \\mathbf{V} \\rangle_{\\mathbb{C}^{M \\times N}} = \\text{Tr}(\\mathbf{U}^H \\mathbf{V}) = \\sum_{m=1}^M \\sum_{n=1}^N u_{m,n}^* v_{m,n}, \\\\\n",
    "    &\\forall \\mathbf{U} = (\\mathbf{U}_h, \\mathbf{U}_v), \\mathbf{V} = (\\mathbf{V}_h, \\mathbf{V}_v) \\in \\mathbb{C}^{M \\times N} \\times \\mathbb{C}^{M \\times N}, \\; \\langle \\mathbf{U}, \\mathbf{V} \\rangle_{\\mathbb{C}^{M \\times N} \\times \\mathbb{C}^{M \\times N}} = \\langle \\mathbf{U}_h, \\mathbf{V}_h \\rangle_{\\mathbb{C}^{M \\times N}} + \\langle \\mathbf{U}_v, \\mathbf{V}_v \\rangle_{\\mathbb{C}^{M \\times N}}.\n",
    "\\end{align}\n",
    "\n",
    "> Hint: to verify `gradient2D_adjoint` is the adjoint of `gradient2D`, evaluate the scalar products above for randomly drawn matrices. Set the random generator to a known state for reproducibility (see [Exercise 1](#ex1))."
   ]
  },
  {
   "cell_type": "markdown",
   "metadata": {},
   "source": [
    "**Answer**:"
   ]
  },
  {
   "cell_type": "code",
   "execution_count": 16,
   "metadata": {},
   "outputs": [
    {
     "name": "stdout",
     "output_type": "stream",
     "text": [
      "============================= test session starts =============================\n",
      "platform win32 -- Python 3.9.7, pytest-6.2.4, py-1.10.0, pluggy-0.13.1\n",
      "rootdir: c:\\Users\\Jp190\\Documents\\Centrale Lille\\S9\\SDI\\Python\\python_sdia\\Labs\\Lab2\n",
      "plugins: anyio-2.2.0\n",
      "collected 10 items\n",
      "\n",
      "tests\\test_adjoint_unittest.py ..........                                [100%]\n",
      "\n",
      "============================= 10 passed in 0.09s ==============================\n"
     ]
    }
   ],
   "source": [
    "# your code\n",
    "%run -m pytest tests/test_adjoint_unittest.py"
   ]
  },
  {
   "cell_type": "markdown",
   "metadata": {},
   "source": [
    "[Bonus, **optional**]. Generalize the `gradient2D` to any number of dimensions ($\\mathbf{X} \\in \\mathbb{C}^{N_1 \\times N_2 \\times \\dotsc \\times N_p}$), i.e., by returning tensors obtained by computing differences along each of its dimensions.\n",
    "> Hint: \n",
    "> - you may use a loops here, and/or list comprehension. Using slice objects (see [np.s_](https://numpy.org/doc/stable/reference/generated/numpy.s_.html?highlight=s_#numpy.s_) and [this page](https://stackoverflow.com/questions/24432209/python-index-an-array-using-the-colon-operator-in-an-arbitrary-dimension)) can be an interesting option.\n",
    ">\n",
    "> - the definition of the scalar product above can be extended to the case of tensors as follows:\n",
    "> \\begin{equation}\n",
    "    \\mathbf{U}, \\mathbf{V} \\in \\mathbb{C}^{N_1 \\times N_2 \\times \\dotsc \\times N_p}, \\; \\langle \\mathbf{U}, \\mathbf{V} \\rangle_{\\mathbb{C}^{N_1 \\times N_2 \\times \\dotsc \\times N_p}} =  \\sum_{n_1 = 1}^{N_1}  \\sum_{n_2 = 1}^{N_2} \\dotsc \\sum_{n_p = 1}^{N_p} u_{n_1, n_2, \\dotsc, n_p}^* v_{n_1, n_2, \\dotsc, n_p}   \n",
    "\\end{equation}"
   ]
  },
  {
   "cell_type": "markdown",
   "metadata": {},
   "source": [
    "**Answer**:"
   ]
  },
  {
   "cell_type": "code",
   "execution_count": 15,
   "metadata": {},
   "outputs": [],
   "source": [
    "# your code"
   ]
  },
  {
   "cell_type": "markdown",
   "metadata": {},
   "source": [
    "## Reference\n",
    "\n",
    "```bibtex\n",
    "@article{condat:hal-01309685,\n",
    "  TITLE = {{Discrete Total Variation: New Definition and Minimization}},\n",
    "  AUTHOR = {Condat, Laurent},\n",
    "  URL = {https://hal.archives-ouvertes.fr/hal-01309685},\n",
    "  JOURNAL = {{SIAM Journal on Imaging Sciences}},\n",
    "  PUBLISHER = {{Society for Industrial and Applied Mathematics}},\n",
    "  VOLUME = {10},\n",
    "  NUMBER = {3},\n",
    "  PAGES = {1258--1290},\n",
    "  YEAR = {2017},\n",
    "  MONTH = Aug,\n",
    "  DOI = {10.1137/16M1075247},\n",
    "  KEYWORDS = { variational image processing ; total variation ;  finite-difference schemes ;  coarea formula},\n",
    "  PDF = {https://hal.archives-ouvertes.fr/hal-01309685v3/file/Condat-newTV.pdf},\n",
    "  HAL_ID = {hal-01309685},\n",
    "  HAL_VERSION = {v3},\n",
    "}\n",
    "```\n"
   ]
  }
 ],
 "metadata": {
  "kernelspec": {
   "display_name": "Python 3.9.7 ('base')",
   "language": "python",
   "name": "python3"
  },
  "language_info": {
   "codemirror_mode": {
    "name": "ipython",
    "version": 3
   },
   "file_extension": ".py",
   "mimetype": "text/x-python",
   "name": "python",
   "nbconvert_exporter": "python",
   "pygments_lexer": "ipython3",
   "version": "3.9.7"
  },
  "vscode": {
   "interpreter": {
    "hash": "ee717bdf0b9ea52f40065d25dab583d0ef4eb2be89f8883fb238f75248a9634a"
   }
  }
 },
 "nbformat": 4,
 "nbformat_minor": 4
}
